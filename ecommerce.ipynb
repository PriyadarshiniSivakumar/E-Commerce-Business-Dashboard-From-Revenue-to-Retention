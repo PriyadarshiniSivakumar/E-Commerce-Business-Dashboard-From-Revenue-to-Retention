{
 "cells": [
  {
   "cell_type": "markdown",
   "id": "48737d69",
   "metadata": {},
   "source": [
    "IMPORTING DATA"
   ]
  },
  {
   "cell_type": "code",
   "execution_count": null,
   "id": "45e5673c",
   "metadata": {},
   "outputs": [],
   "source": [
    "import pandas as pd\n",
    "import numpy as np\n",
    "import matplotlib.pyplot as plt\n",
    "import seaborn as sns\n",
    "import ipywidgets as widgets\n",
    "from IPython.display import display\n",
    "\n",
    "\n",
    "df = pd.read_excel(\"retail_data.csv.xlsx\", nrows=5000)\n",
    "df['Date'] = pd.to_datetime(df['Date'], errors='coerce')\n",
    "df.drop_duplicates(inplace=True)\n"
   ]
  },
  {
   "cell_type": "markdown",
   "id": "be156ae1",
   "metadata": {},
   "source": [
    "KPI Section (like tiles in dashboard)"
   ]
  },
  {
   "cell_type": "code",
   "execution_count": 2,
   "id": "fd5d5bb6",
   "metadata": {},
   "outputs": [
    {
     "name": "stdout",
     "output_type": "stream",
     "text": [
      " Total Revenue: ₹1,273,369\n",
      " Unique Customers: 4872\n",
      " Total Orders: 4993\n"
     ]
    }
   ],
   "source": [
    "total_revenue = df['Amount'].sum()\n",
    "unique_customers = df['Customer_ID'].nunique()\n",
    "total_orders = df['Transaction_ID'].nunique()\n",
    "\n",
    "print(f\" Total Revenue: ₹{total_revenue:,.0f}\")\n",
    "print(f\" Unique Customers: {unique_customers}\")\n",
    "print(f\" Total Orders: {total_orders}\")\n"
   ]
  },
  {
   "cell_type": "markdown",
   "id": "c64e6522",
   "metadata": {},
   "source": [
    "Category-wise Revenue (Interactive Dropdown)"
   ]
  },
  {
   "cell_type": "code",
   "execution_count": 3,
   "id": "30a3aa2b",
   "metadata": {},
   "outputs": [
    {
     "data": {
      "application/vnd.jupyter.widget-view+json": {
       "model_id": "ba4c2bbae04e44369c5df84b803cb1c3",
       "version_major": 2,
       "version_minor": 0
      },
      "text/plain": [
       "interactive(children=(Dropdown(description='City:', options=('All', 'Dortmund', 'Nottingham', 'Geelong', 'Edmo…"
      ]
     },
     "metadata": {},
     "output_type": "display_data"
    },
    {
     "data": {
      "text/plain": [
       "<function __main__.plot_category_revenue(city)>"
      ]
     },
     "execution_count": 3,
     "metadata": {},
     "output_type": "execute_result"
    }
   ],
   "source": [
    "def plot_category_revenue(city):\n",
    "    temp = df.copy()\n",
    "    if city != \"All\":\n",
    "        temp = temp[temp['City'] == city]\n",
    "    category_revenue = temp.groupby('Product_Category')['Amount'].sum().sort_values(ascending=False)\n",
    "\n",
    "    plt.figure(figsize=(8,5))\n",
    "    sns.barplot(x=category_revenue.index, y=category_revenue.values, palette=\"viridis\")\n",
    "    plt.xticks(rotation=45)\n",
    "    plt.title(f\"Revenue by Category ({city})\")\n",
    "    plt.show()\n",
    "\n",
    "city_selector = widgets.Dropdown(options=[\"All\"] + list(df['City'].dropna().unique()), description=\"City:\")\n",
    "widgets.interact(plot_category_revenue, city=city_selector)\n"
   ]
  },
  {
   "cell_type": "markdown",
   "id": "d24e5c47",
   "metadata": {},
   "source": [
    "Customer Retention (Pivot View)"
   ]
  },
  {
   "cell_type": "code",
   "execution_count": 4,
   "id": "6ce4185d",
   "metadata": {},
   "outputs": [
    {
     "data": {
      "text/html": [
       "<div>\n",
       "<style scoped>\n",
       "    .dataframe tbody tr th:only-of-type {\n",
       "        vertical-align: middle;\n",
       "    }\n",
       "\n",
       "    .dataframe tbody tr th {\n",
       "        vertical-align: top;\n",
       "    }\n",
       "\n",
       "    .dataframe thead th {\n",
       "        text-align: right;\n",
       "    }\n",
       "</style>\n",
       "<table border=\"1\" class=\"dataframe\">\n",
       "  <thead>\n",
       "    <tr style=\"text-align: right;\">\n",
       "      <th>Customer_Type</th>\n",
       "      <th>Lost</th>\n",
       "      <th>New</th>\n",
       "      <th>Returning</th>\n",
       "    </tr>\n",
       "    <tr>\n",
       "      <th>Product_Category</th>\n",
       "      <th></th>\n",
       "      <th></th>\n",
       "      <th></th>\n",
       "    </tr>\n",
       "  </thead>\n",
       "  <tbody>\n",
       "    <tr>\n",
       "      <th>Books</th>\n",
       "      <td>21</td>\n",
       "      <td>965</td>\n",
       "      <td>2</td>\n",
       "    </tr>\n",
       "    <tr>\n",
       "      <th>Clothing</th>\n",
       "      <td>29</td>\n",
       "      <td>991</td>\n",
       "      <td>1</td>\n",
       "    </tr>\n",
       "    <tr>\n",
       "      <th>Electronics</th>\n",
       "      <td>19</td>\n",
       "      <td>983</td>\n",
       "      <td>0</td>\n",
       "    </tr>\n",
       "    <tr>\n",
       "      <th>Grocery</th>\n",
       "      <td>19</td>\n",
       "      <td>1008</td>\n",
       "      <td>0</td>\n",
       "    </tr>\n",
       "    <tr>\n",
       "      <th>Home Decor</th>\n",
       "      <td>29</td>\n",
       "      <td>918</td>\n",
       "      <td>1</td>\n",
       "    </tr>\n",
       "  </tbody>\n",
       "</table>\n",
       "</div>"
      ],
      "text/plain": [
       "Customer_Type     Lost   New  Returning\n",
       "Product_Category                       \n",
       "Books               21   965          2\n",
       "Clothing            29   991          1\n",
       "Electronics         19   983          0\n",
       "Grocery             19  1008          0\n",
       "Home Decor          29   918          1"
      ]
     },
     "metadata": {},
     "output_type": "display_data"
    }
   ],
   "source": [
    "df['FirstPurchase'] = df.groupby('Customer_ID')['Date'].transform('min')\n",
    "df['LastPurchase'] = df.groupby('Customer_ID')['Date'].transform('max')\n",
    "\n",
    "df['Customer_Type'] = df.apply(\n",
    "    lambda row: 'New' if row['Date'] == row['FirstPurchase']\n",
    "    else ('Lost' if row['Date'] == row['LastPurchase'] else 'Returning'),\n",
    "    axis=1\n",
    ")\n",
    "\n",
    "retention = df.groupby(['Product_Category','Customer_Type'])['Customer_ID'].nunique().unstack().fillna(0)\n",
    "display(retention)\n"
   ]
  },
  {
   "cell_type": "markdown",
   "id": "24ef9e40",
   "metadata": {},
   "source": [
    "Spending Distribution (Boxplot)"
   ]
  },
  {
   "cell_type": "code",
   "execution_count": 5,
   "id": "79f44b94",
   "metadata": {},
   "outputs": [
    {
     "data": {
      "image/png": "[encoded data removed]",
      "text/plain": [
       "<Figure size 800x500 with 1 Axes>"
      ]
     },
     "metadata": {},
     "output_type": "display_data"
    }
   ],
   "source": [
    "plt.figure(figsize=(8,5))\n",
    "sns.boxplot(x=\"Product_Category\", y=\"Amount\", data=df)\n",
    "plt.xticks(rotation=45)\n",
    "plt.title(\"Spending Distribution by Category\")\n",
    "plt.show()\n"
   ]
  },
  {
   "cell_type": "markdown",
   "id": "c8280c74",
   "metadata": {},
   "source": [
    "Export Reports"
   ]
  },
  {
   "cell_type": "code",
   "execution_count": null,
   "id": "f8619612",
   "metadata": {},
   "outputs": [
    {
     "name": "stdout",
     "output_type": "stream",
     "text": [
      "✅ Reports exported as ecommerce_reports.xlsx\n"
     ]
    }
   ],
   "source": [
    "with pd.ExcelWriter(\"ecommerce_reports.xlsx\") as writer:\n",
    "    df.to_excel(writer, sheet_name=\"AllData\", index=False)\n",
    "    retention.to_excel(writer, sheet_name=\"Retention\")\n",
    "print(\" Reports exported as ecommerce_reports.xlsx\")\n"
   ]
  }
 ],
 "metadata": {
  "kernelspec": {
   "display_name": "base",
   "language": "python",
   "name": "python3"
  },
  "language_info": {
   "codemirror_mode": {
    "name": "ipython",
    "version": 3
   },
   "file_extension": ".py",
   "mimetype": "text/x-python",
   "name": "python",
   "nbconvert_exporter": "python",
   "pygments_lexer": "ipython3",
   "version": "3.12.7"
  }
 },
 "nbformat": 4,
 "nbformat_minor": 5
}
